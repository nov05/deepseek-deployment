{
 "cells": [
  {
   "cell_type": "markdown",
   "metadata": {},
   "source": [
    "* Notebook created by Nov05 on 2025-01-31  \n",
    "* https://tensorfuse.io/blog/increase-gpu-quota-on-aws-with-python-script  \n",
    "* AWS document: [ServiceQuotas.Client.**get_service_quota**()](https://boto3.amazonaws.com/v1/documentation/api/latest/reference/services/service-quotas/client/get_service_quota.html)"
   ]
  },
  {
   "cell_type": "code",
   "execution_count": 15,
   "metadata": {},
   "outputs": [
    {
     "name": "stdout",
     "output_type": "stream",
     "text": [
      "Open quota increase request already exists for L-7212CCBC in us-east-1 with status CASE_OPENED\n",
      "Open quota increase request already exists for L-3819A6DF in us-east-1 with status CASE_OPENED\n"
     ]
    }
   ],
   "source": [
    "import boto3\n",
    "'''\n",
    "⚠️ Important Warning: Avoid applying the script to all regions and instance types at once \n",
    "as this could trigger security issues on your account. Begin by applying to the 1-2 most \n",
    "essential instance types in 1-2 regions. Once those are approved, proceed with more. \n",
    "Remember, there's a cap on open service quota requests in EC2. If you've hit that cap, \n",
    "wait for current tickets to close before rerunning the script once the limit is lifted.\n",
    "'''\n",
    "regions = ['us-east-1'] #[, 'eu-west-1', 'us-east-1', 'eu-west-1', 'us-west-2', 'us-east-2', \n",
    "# 'ap-south-1', 'eu-west-2', 'eu-west-3', 'eu-north-1', 'eu-central-1', 'ca-central-1']  \n",
    "\n",
    "service_code = 'sagemaker' #'ec2'\n",
    "\n",
    "## Define the regions and GPU instance types to request quota increases for\n",
    "gpu_instance_types = {\n",
    "    'ml.g6.8xlarge for endpoint usage': 'L-B0F91871',\n",
    "    # 'All P4, P3 and P2 Spot Instance Requests': 'L-7212CCBC',\n",
    "    # 'All G and VT Spot Instance Requests': 'L-3819A6DF',\n",
    "    #'All P5 Spot Instance Requests': 'L-C4BD4855',\n",
    "    #'All Inf Spot Instance Requests': 'L-B5D1601B',\n",
    "    #'All Trn Spot Instance Requests': 'L-6B0D517C',\n",
    "}\n",
    "\n",
    "# Desired quota value\n",
    "desired_value = 1\n",
    "\n",
    "# Initialize the boto3 client\n",
    "def request_quota_increase(region, service_code, quota_code, desired_value):\n",
    "    try:\n",
    "        # Check for open quota increase requests\n",
    "        open_statuses = ['PENDING', 'CASE_OPENED', 'INVALID_REQUEST']\n",
    "        response = client.list_requested_service_quota_change_history_by_quota(\n",
    "            ServiceCode=service_code,\n",
    "            QuotaCode=quota_code\n",
    "        )\n",
    "        for quota_request in response['RequestedQuotas']:\n",
    "            if quota_request['Status'] in open_statuses:\n",
    "                print(f\"Open quota increase request already exists for {quota_code} \"\n",
    "                f\"in {region} with status {quota_request['Status']}\")\n",
    "                return\n",
    "\n",
    "        # Check current quota\n",
    "        response = client.get_service_quota(\n",
    "            ServiceCode=service_code,\n",
    "            QuotaCode=quota_code\n",
    "        )\n",
    "        current_value = response['Quota']['Value']\n",
    "        print(f\"Current quota for {quota_code} in {region}: {current_value}\")\n",
    "\n",
    "        # Request quota increase if current value is less than desired value\n",
    "        if current_value <= desired_value:\n",
    "            response = client.request_service_quota_increase(\n",
    "                ServiceCode=service_code,\n",
    "                QuotaCode=quota_code,\n",
    "                DesiredValue=desired_value\n",
    "            )\n",
    "            print(f\"Requested quota increase for {quota_code} in {region} to {desired_value}\")\n",
    "        else:\n",
    "            print(f\"No increase needed for {quota_code} in {region}\")\n",
    "    except Exception as e:\n",
    "        print(f\"Error requesting quota increase for {quota_code} in {region}: {e}\")\n",
    "\n",
    "\n",
    "# Iterate over all regions and GPU instance types\n",
    "for region in regions:\n",
    "    for _, quota_code in gpu_instance_types.items():\n",
    "        client = boto3.client('service-quotas', region_name=region)\n",
    "        request_quota_increase(region, service_code, quota_code, desired_value)"
   ]
  },
  {
   "cell_type": "code",
   "execution_count": null,
   "metadata": {},
   "outputs": [],
   "source": []
  }
 ],
 "metadata": {
  "kernelspec": {
   "display_name": "sagemaker_py310",
   "language": "python",
   "name": "sagemaker_py310"
  },
  "language_info": {
   "codemirror_mode": {
    "name": "ipython",
    "version": 3
   },
   "file_extension": ".py",
   "mimetype": "text/x-python",
   "name": "python",
   "nbconvert_exporter": "python",
   "pygments_lexer": "ipython3",
   "version": "3.10.15"
  }
 },
 "nbformat": 4,
 "nbformat_minor": 2
}
